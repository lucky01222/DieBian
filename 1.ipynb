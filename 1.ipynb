{
 "cells": [
  {
   "cell_type": "code",
   "execution_count": 1,
   "id": "be60a300-87ae-407b-b733-e9b12f205347",
   "metadata": {},
   "outputs": [],
   "source": [
    "import os\n",
    "import openai\n",
    "import copy\n",
    "import glob\n",
    "import shutil\n",
    "openai.api_key = os.getenv(\"OPENAI_API_KEY\")\n",
    "from IPython.display import display, Code, Markdown\n",
    "import matplotlib.pyplot as plt\n",
    "import seaborn as sns\n",
    "import time\n",
    "import tiktoken\n",
    "\n",
    "import numpy as np\n",
    "import pandas as pd\n",
    "\n",
    "import json\n",
    "import io\n",
    "import inspect\n",
    "import requests\n",
    "import re\n",
    "import random\n",
    "import string\n",
    "import base64\n",
    "import pymysql\n",
    "import os.path\n",
    "import matplotlib"
   ]
  },
  {
   "cell_type": "markdown",
   "id": "9f479f00-60a5-4116-85e6-fd673257446b",
   "metadata": {},
   "source": [
    "1.文件夹操作辅助类函数"
   ]
  },
  {
   "cell_type": "code",
   "execution_count": 16,
   "id": "031c0e00-4b9a-4162-9acc-e0619615052b",
   "metadata": {},
   "outputs": [],
   "source": [
    "def create_or_get_folder(folder_name):\n",
    "    \"\"\"\n",
    "    创建或获取文件夹\n",
    "    \"\"\"\n",
    "    folder_path = os.path.join('./', folder_name)\n",
    "    if not os.path.exists(folder_path):\n",
    "        os.makedirs(folder_path)\n",
    "\n",
    "    return folder_path\n",
    "\n",
    "def create_or_get_doc(folder_path, doc_name):\n",
    "    \"\"\"\n",
    "    创建或获取文件路径\n",
    "    \"\"\"\n",
    "    file_path = os.path.join(folder_path, f'{doc_name}.md')\n",
    "    if not os.path.exists(file_path):\n",
    "        with open(file_path, 'w', encoding='utf-8') as file:\n",
    "            file.write('') \n",
    "    doc_path = file_path\n",
    "    \n",
    "    return doc_path\n",
    "\n",
    "def get_file_content(file_path):\n",
    "    \"\"\"\n",
    "    获取本地文档的具体内容\n",
    "    \"\"\"\n",
    "    with open(file_path, 'r', encoding='utf-8')as file:\n",
    "        decoded_content = file.read()\n",
    "    return decoded_content\n",
    "\n",
    "def append_content_in_doc(folder_path, doc_path, dict_list):\n",
    "    \"\"\"\n",
    "    创建文档，或为指定的文档增加内容\n",
    "    \"\"\"\n",
    "    # 将字典列表转换为json字符串\n",
    "    json_string = json.dumps(dict_list, indent=4, ensure_ascii=False)\n",
    "\n",
    "    with open(doc_path, 'a', encoding='utf-8') as file:\n",
    "        file.write(json_string)\n",
    "\n",
    "\n",
    "def clear_content_in_doc(doc_path):\n",
    "    \"\"\"\n",
    "    清空指定文档的全部内容\n",
    "    \"\"\"\n",
    "    with open(doc_path, 'w') as file:\n",
    "        pass   # 清空文件内容\n",
    "\n",
    "def list_files_in_folder(folder_path):\n",
    "    \"\"\"\n",
    "    列举当前文件夹的全部文件\n",
    "    \"\"\"\n",
    "    file_names = [f for f in os.listdir(folder_path) if os.path.isfile(os.path.join(folder_path,f))]\n",
    "\n",
    "    return file_names\n",
    "\n",
    "def rename_doc_in_drive(doc_path, new_name):\n",
    "    \"\"\"\n",
    "    修改制定的文档名称\n",
    "    \"\"\"\n",
    "    # 分解原始路径以获取目录和拓展名\n",
    "    directory, old_file_name = os.path.split(doc_path)\n",
    "    extension = os.path.splitext(old_file_name)[1]\n",
    "    #用新名称和原始拓展名组合新路径\n",
    "    new_file_name = new_name + extension\n",
    "    new_file_path = os.path.join(directory, new_file_name)\n",
    "\n",
    "    # 重命名文件\n",
    "    os.rename(doc_path, new_file_path)\n",
    "\n",
    "    update_name = new_name\n",
    "\n",
    "    return update_name\n",
    "\n",
    "def delete_all_files_in_folder(folder_path):\n",
    "    for filename in os.listdir(folder_path):\n",
    "        file_path = os.path.join(folder_path, filename)\n",
    "        try:\n",
    "            if os.path.isfile(file_path) or os.path.islink(file_path):\n",
    "                os.unlink(file_path)\n",
    "            elif os.path.isdir(file_path):\n",
    "                shutil.rmtree(file_path)\n",
    "        except Exception as e:\n",
    "            print(f'Failed to delete {file_path}. Reason:{e}')"
   ]
  },
  {
   "cell_type": "code",
   "execution_count": 25,
   "id": "b4ba3182-4f38-46f2-a9b0-f1b82b7130f4",
   "metadata": {},
   "outputs": [],
   "source": [
    "class InterProject():\n",
    "    \"\"\"\n",
    "    项目类，每个分析任务的基本对象\\\n",
    "    每个代码解释器必须说明所属项目，若无所属项目，则在代码解释器运行时会自动创建一个项目。\\\n",
    "    需要注意的是，项目不仅起到了说明和标注当前分析任务的作用，更关键的是，项目提供了每个分析任务的“长期记忆”。\\\n",
    "    即每个项目都有对应的文档，用于保存在分析和建模工作中的多轮对话内容。\\\n",
    "    \"\"\"\n",
    "    def __init__(self,\n",
    "                 project_name,\n",
    "                 doc_name,\n",
    "                 folder_path = None,\n",
    "                 doc_path = None,\n",
    "                 doc_content = None):\n",
    "        # 项目名称，即项目文件夹名称\n",
    "        self.project_name = project_name\n",
    "        # 项目某部分名称，即项目文件名称\n",
    "        self.doc_name = doc_name \n",
    "\n",
    "        # 项目文件夹路径\n",
    "        if folder_path == None:\n",
    "            folder_path = create_or_get_folder(folder_name=project_name)\n",
    "        self.folder_path = folder_path\n",
    "\n",
    "        # 获取当前项目中的文件名称\n",
    "        self.doc_list = list_files_in_folder(folder_path)\n",
    "\n",
    "        # 项目文件路径\n",
    "        if doc_path == None:\n",
    "            doc_path = create_or_get_doc(folder_path=folder_path,\n",
    "                                         doc_name=doc_name)\n",
    "        self.doc_path = doc_path\n",
    "\n",
    "        # 项目文件的具体内容，相当于多轮对话内容\n",
    "        self.doc_content = doc_content\n",
    "        # 若初始content不为空，则将其加入文档内\n",
    "        if doc_content != None:\n",
    "            append_content_in_doc(folder_path=folder_path,\n",
    "                                  doc_path=doc_path,\n",
    "                                  dict_list=doc_content)\n",
    "    def get_doc_content(self):\n",
    "        \"\"\"\n",
    "        根据项目某文件的文件路径，获取对应的文件内容\n",
    "        \"\"\"\n",
    "        self.doc_content = get_file_content(file_path=self.doc_path)\n",
    "\n",
    "        return self.doc_content\n",
    "\n",
    "    def append_doc_content(self, content):\n",
    "        \"\"\"\n",
    "        根据项目某文件的文件路径，追加文件内容\n",
    "        \"\"\"\n",
    "        append_content_in_doc(folder_path = self.folder_path,\n",
    "                              doc_path = self.doc_path,\n",
    "                              dict_list=content)\n",
    "\n",
    "    def clear_content(self):\n",
    "        \"\"\"\n",
    "        清空某文件内的全部内容\n",
    "        \"\"\"\n",
    "        clear_content_in_doc(doc_path=self.doc_path)\n",
    "\n",
    "    def delete_all_files(self):\n",
    "        \"\"\"\n",
    "        删除当前项目文件夹的全部文件\n",
    "        \"\"\"\n",
    "        delete_all_files_in_folder(folder_path=self.folder_path)\n",
    "\n",
    "    def update_doc_list(self):\n",
    "        \"\"\"\n",
    "        更新当前项目文件夹内全部文件名称\n",
    "        \"\"\"\n",
    "        self.doc_list = list_files_in_folder(self.folder_path)\n",
    "\n",
    "    def rename_doc(self,new_name):\n",
    "        \"\"\"\n",
    "        修改当前文件名称\n",
    "        \"\"\"\n",
    "        self.doc_name = rename_doc_in_drive(doc_path=self.doc_path,\n",
    "                                            new_name=new_name)"
   ]
  },
  {
   "cell_type": "code",
   "execution_count": 26,
   "id": "324346c8-0e2a-4789-96e4-ff7f49e85e1e",
   "metadata": {},
   "outputs": [],
   "source": [
    "p1 = InterProject(project_name='测试项目',doc_name='测试文档',doc_content='测试内容1')"
   ]
  },
  {
   "cell_type": "code",
   "execution_count": 27,
   "id": "c8991c20-b752-4e74-9f94-aff87bf12cc4",
   "metadata": {},
   "outputs": [
    {
     "data": {
      "text/plain": [
       "'./测试项目'"
      ]
     },
     "execution_count": 27,
     "metadata": {},
     "output_type": "execute_result"
    }
   ],
   "source": [
    "p1.folder_path"
   ]
  },
  {
   "cell_type": "code",
   "execution_count": 28,
   "id": "8c1d2d6d-e792-4cb3-9018-02ad002373fd",
   "metadata": {},
   "outputs": [
    {
     "data": {
      "text/plain": [
       "'./测试项目/测试文档.md'"
      ]
     },
     "execution_count": 28,
     "metadata": {},
     "output_type": "execute_result"
    }
   ],
   "source": [
    "p1.doc_path"
   ]
  },
  {
   "cell_type": "code",
   "execution_count": 29,
   "id": "02c3937a-63c4-48bc-9075-49782e85a8af",
   "metadata": {},
   "outputs": [
    {
     "data": {
      "text/plain": [
       "'测试文档'"
      ]
     },
     "execution_count": 29,
     "metadata": {},
     "output_type": "execute_result"
    }
   ],
   "source": [
    "p1.doc_name"
   ]
  },
  {
   "cell_type": "code",
   "execution_count": 30,
   "id": "e04ef91a-5e61-46b3-88e3-37b8cba29f16",
   "metadata": {},
   "outputs": [
    {
     "data": {
      "text/plain": [
       "['测试文档.md']"
      ]
     },
     "execution_count": 30,
     "metadata": {},
     "output_type": "execute_result"
    }
   ],
   "source": [
    "p1.doc_list"
   ]
  },
  {
   "cell_type": "code",
   "execution_count": 31,
   "id": "9d684d8f-83e2-472b-ae15-b6848ddd7c4e",
   "metadata": {},
   "outputs": [],
   "source": [
    "p1.update_doc_list()"
   ]
  },
  {
   "cell_type": "code",
   "execution_count": 32,
   "id": "be2eb3c5-f30f-43e9-98b5-dc35a5b6a038",
   "metadata": {},
   "outputs": [
    {
     "data": {
      "text/plain": [
       "['测试文档.md']"
      ]
     },
     "execution_count": 32,
     "metadata": {},
     "output_type": "execute_result"
    }
   ],
   "source": [
    "p1.doc_list"
   ]
  },
  {
   "cell_type": "code",
   "execution_count": 34,
   "id": "17b6f2ed-6d89-4e99-a706-0e55df024dda",
   "metadata": {},
   "outputs": [
    {
     "data": {
      "text/plain": [
       "'\"测试内容1\"\"测试内容1\"'"
      ]
     },
     "execution_count": 34,
     "metadata": {},
     "output_type": "execute_result"
    }
   ],
   "source": [
    "p1.get_doc_content()"
   ]
  },
  {
   "cell_type": "markdown",
   "id": "eb716cc0-e00c-4ce2-94dc-d03b475f050f",
   "metadata": {},
   "source": [
    "# 2.ChatMessages对话消息类"
   ]
  },
  {
   "cell_type": "code",
   "execution_count": 73,
   "id": "7d2574cb-4f8f-4036-9e24-4d757d0f83fc",
   "metadata": {},
   "outputs": [],
   "source": [
    "class ChatMessages():\n",
    "    \"\"\"\n",
    "    Chatmessages类，用于创建Chat模型能够接收和解读messages对象，该对象是原始Chat模型接收的\\\n",
    "    messages对象的更高级表现形式，ChatMessages类对象将字典类型的list作为其属性之一，同时还能\\\n",
    "    区分系统消息和历史对话消息，并且能够自行计算当前对话的token量，并能够在append的同时删减\\\n",
    "    最早对话消息，从而能够更加顺畅的输入大模型并完成多轮对话需求。\n",
    "    \"\"\"\n",
    "\n",
    "    def __init__(self,\n",
    "                 system_content_list=[],\n",
    "                 question='你好。',\n",
    "                 tokens_thr=None,\n",
    "                 project=None):\n",
    "        self.system_content_list=system_content_list\n",
    "        # 系统消息文档列表，相当于外部输入文档列表\n",
    "        system_messages = []\n",
    "        # 除系统消息外历史对话消息\n",
    "        history_messages = []\n",
    "        # 用于保存全部消息的list\n",
    "        messages_all = []\n",
    "        # 系统消息字符串\n",
    "        system_content = ''\n",
    "        # 历史消息字符串，此时为用户输入消息\n",
    "        history_content = question\n",
    "        # 系统消息+历史信息消息\n",
    "        content_all = ''\n",
    "        # 输入到messages中系统消息的个数，初始情况为0\n",
    "        num_of_system_messages = 0\n",
    "        # 全部消息的token数量\n",
    "        all_tokens_count = 0\n",
    "\n",
    "        encoding = tiktoken.encoding_for_model(\"gpt-3.5-turbo\")\n",
    "\n",
    "        # 将外部输入文档列表依次保存为系统消息\n",
    "        if system_content_list != []:\n",
    "            for content in system_content_list:\n",
    "                system_messages.append({\"role\":\"system\", \"content\":content})\n",
    "                # 同时进行全文档拼接\n",
    "                system_content += content\n",
    "            # 计算系统消息token\n",
    "            system_tokens_count = len(encoding.encode(system_content))\n",
    "            # 拼接系统消息\n",
    "            messages_all += system_messages\n",
    "            # 计算系统消息个数\n",
    "            num_of_system_messages = len(system_content_list)\n",
    "\n",
    "            # 若存在最大token数量限制\n",
    "            if system_tokens_count >= tokens_thr:\n",
    "                print(\"system_messages的tokens数量超出限制，当前系统消息将不会被输入模型，若有必要，请重新调整外部文档数量。\")\n",
    "                # 删除系统消息\n",
    "                system_messages = []\n",
    "                messages_all = []\n",
    "                # 系统消息个数清零\n",
    "                num_of_system_messages = 0\n",
    "                # 系统消息token数清零\n",
    "                system_tokens_count = 0\n",
    "\n",
    "            all_tokens_count += system_tokens_count\n",
    "        # 创建首次对话信息\n",
    "        history_messages = [{\"role\":\"user\", \"content\":question}]\n",
    "        # 创建全部消息列表\n",
    "        messages_all += history_messages\n",
    "        # 计算用户问题token\n",
    "        user_tokens_count = len(encoding.encode(question))\n",
    "\n",
    "        # 计算总token数\n",
    "        all_tokens_count += user_tokens_count\n",
    "\n",
    "        # 若存在最大token限制\n",
    "        if tokens_thr != None:\n",
    "            if all_tokens_count >= tokens_thr:\n",
    "                print(\"当前用户问题的tokens数量超出限制，该消息无法被输入到模型中，请重新输入用户问题或调整外部文档数量。\")\n",
    "                # 同时清空系统消息和用户消息\n",
    "                history_messages = []\n",
    "                system_messages = []\n",
    "                messages_all = []\n",
    "                num_of_system_messages = 0\n",
    "                all_tokens_count=0\n",
    "        # 全部messages消息\n",
    "        self.messages = messages_all\n",
    "        # system_messages消息\n",
    "        self.system_messages = system_messages\n",
    "        # user_messages信息\n",
    "        self.history_messages = history_messages\n",
    "        # messages信息中全部content的token数量\n",
    "        self.tokens_count = all_tokens_count\n",
    "        # 系统消息数量\n",
    "        self.num_of_system_messages = num_of_system_messages\n",
    "        # 最大tokens数量阈值\n",
    "        self.tokens_thr = tokens_thr\n",
    "        # token数计算编码方式\n",
    "        self.encoding = tiktoken.encoding_for_model(\"gpt-3.5-turbo\")\n",
    "        # message挂靠的项目\n",
    "        self.project = project\n",
    "\n",
    "    # 删除部分对话信息\n",
    "    def messages_pop(self, manual=False, index=None):\n",
    "        def reduce_tokens(index):\n",
    "            drop_message = self.history_messages.pop(index)\n",
    "            self.tokens_count -= len(self.encoding.encode(str(drop_message)))\n",
    "        if self.tokens_thr is not None:\n",
    "            while self.tokens_count >= self.tokens_thr:\n",
    "                reduce_tokens(-1)\n",
    "        if manual:\n",
    "            if index is None:\n",
    "                reduce_tokens(-1)\n",
    "            elif 0 <= index <len(self.history_messages) or index == -1:\n",
    "                reduce_tokens(index=index)\n",
    "            else:\n",
    "                raise ValueError(\"Invalid index value:{}\".format(index))\n",
    "            # 更新messages\n",
    "            self.messages = self.system_messages + self.history_messages\n",
    "\n",
    "    # 增加部分对话信息\n",
    "    def messages_append(self, new_messages):\n",
    "\n",
    "        # 若是一个单独字典，或json格式字典\n",
    "        if type(new_messages) is dict or type(new_messages) is openai.openai_project.OpenAIObject:\n",
    "            self.messages.append(new_messages)\n",
    "            self.tokens_count += len(self.encoding.encode(str(new_messages)))\n",
    "        # 若新消息也是ChatMessages对象\n",
    "        elif isinstance(new_messages, ChatMessages):\n",
    "            self.messages += new_messages.messages\n",
    "            self.tokens_count += new_messags.tokens_count\n",
    "\n",
    "        # 重新更新history_messages\n",
    "        self.history_messages = self.messages[self.num_of_system_messages:]\n",
    "        # 再执行pop，若有需要，则会删除部分历史消息\n",
    "        self.messages_pop()\n",
    "    \n",
    "    # 复制消息\n",
    "    def copy(self):\n",
    "        # 创建一个新的ChatMessages对象，复制所有重要的属性\n",
    "        system_content_str_list = [messages['content'] for messages in self.system_messages]\n",
    "        new_obj = ChatMessages(\n",
    "                system_content_list=copy.deepcopy(system_content_str_list), # 使用深复制来复制系统消息\n",
    "                question=self.history_messages[0][\"content\"] if self.history_messages else '',\n",
    "                tokens_thr=self.tokens_thr\n",
    "        )\n",
    "        # 复制任何其他需要复制的属性\n",
    "        new_obj.history_messages = copy.deepcopy(self.history_messages) # 使用深复制来复制历史消息\n",
    "        new_obj.messages = copy.deepcopy(self.messages)\n",
    "        new_obj.tokens_count = self.tokens_count\n",
    "        new_obj.num_of_system_messages = self.num_of_system_messages\n",
    "\n",
    "        return new_obj\n",
    "\n",
    "    # 增加系统消息\n",
    "    def add_system_messages(self, new_system_content):\n",
    "        system_content_list = self.system_content_list\n",
    "        system_messages = []\n",
    "        # 若是字符串，则将其转化为list\n",
    "        if type(new_system_content) == str:\n",
    "            new_system_content = [new_system_content]\n",
    "        system_content_list.extend(new_system_content)\n",
    "        new_system_content_str = ''\n",
    "        for content in new_system_content:\n",
    "            new_system_content_str += content\n",
    "        new_token_count = len(self.encoding.encode(str(new_system_content_str)))\n",
    "        self.tokens_count += new_token_count\n",
    "        for message in system_content_list:\n",
    "            system_messages.append({\"role\":\"system\", \"content\": message})\n",
    "        self.system_messages = system_messages\n",
    "        self.num_of_system_messages = len(system_content_list)\n",
    "        self.messages = system_messages + self.history_messages\n",
    "\n",
    "        # 再执行pop， 若有需要，则会删除部分历史信息\n",
    "        self.messages_pop()\n",
    "\n",
    "    # 删除系统消息\n",
    "    def delete_system_messages(self):\n",
    "        system_content_list = self.system_content_list\n",
    "        if system_content_list != []:\n",
    "            system_content_str = ''\n",
    "            for content in system_content_list:\n",
    "                system_content_str += content\n",
    "            delete_token_count = len(self.encoding.encode(str(system_content_str)))\n",
    "            self.tokens_count -= delete_token_count\n",
    "            self.num_of_system_messages = 0\n",
    "            self.system_content_list = []\n",
    "            self.system_messages = []\n",
    "            self.messages = self.history_messages\n",
    "\n",
    "    # 清除对话消息中function消息\n",
    "    def delete_function_messages(self):\n",
    "        # 用于删除外部函数消息\n",
    "        history_messages = self.history_messages\n",
    "        # 从后向前迭代列表\n",
    "        for index in range(len(history_messages) -1, -1, -1):\n",
    "            message = history_messages[index]\n",
    "            if message.get(\"function_call\") or message.get(\"role\") == \"function\":\n",
    "                self.messages_pop(manual=True, index=index)"
   ]
  },
  {
   "cell_type": "code",
   "execution_count": 74,
   "id": "b5df7b2b-fdcd-4b48-b99b-a2b3e355b0b5",
   "metadata": {},
   "outputs": [],
   "source": [
    "msg1 = ChatMessages()"
   ]
  },
  {
   "cell_type": "code",
   "execution_count": 75,
   "id": "5bedeb3a-4b41-437b-afbe-45acc7c0895e",
   "metadata": {},
   "outputs": [
    {
     "data": {
      "text/plain": [
       "[]"
      ]
     },
     "execution_count": 75,
     "metadata": {},
     "output_type": "execute_result"
    }
   ],
   "source": [
    "msg1.system_messages"
   ]
  },
  {
   "cell_type": "code",
   "execution_count": 76,
   "id": "42a3aed0-e2d6-49ab-95d0-0e6546bc51e3",
   "metadata": {},
   "outputs": [
    {
     "data": {
      "text/plain": [
       "[{'role': 'user', 'content': '你好。'}]"
      ]
     },
     "execution_count": 76,
     "metadata": {},
     "output_type": "execute_result"
    }
   ],
   "source": [
    "msg1.history_messages"
   ]
  },
  {
   "cell_type": "code",
   "execution_count": 77,
   "id": "14935dd3-b300-49a8-add8-9e71694a45db",
   "metadata": {},
   "outputs": [],
   "source": [
    "msg1.messages_pop(manual=True)"
   ]
  },
  {
   "cell_type": "code",
   "execution_count": 78,
   "id": "152278bf-d648-44ef-9b2b-7496b232d4f0",
   "metadata": {},
   "outputs": [
    {
     "data": {
      "text/plain": [
       "[]"
      ]
     },
     "execution_count": 78,
     "metadata": {},
     "output_type": "execute_result"
    }
   ],
   "source": [
    "msg1.history_messages"
   ]
  },
  {
   "cell_type": "markdown",
   "id": "e90a9b54-8777-4dfc-b2c3-b2104e293399",
   "metadata": {},
   "source": [
    "# 3.Tools模块创建"
   ]
  },
  {
   "cell_type": "code",
   "execution_count": 79,
   "id": "662d9894-0288-4498-981d-83c2f3c5f7bb",
   "metadata": {},
   "outputs": [],
   "source": [
    "def python_inter(py_code, g='globals()'):\n",
    "    \"\"\"\n",
    "    专门用于执行非绘图类python代码，并获取最终查询或处理结果。若是设计绘图操作的python代码，则需要调用fig_inter函数来执行。\n",
    "    :param py_code: 字符串形式的python代码\n",
    "    :param g: g, 字符串形式变量，表示环境变量，无需设置，保持默认参数即可。\n",
    "    :return: 代码运行结果\n",
    "    \"\"\"\n",
    "\n",
    "    global_vars_before = set(g.keys())\n",
    "    try:\n",
    "        exec(py_code, g)\n",
    "    except Exception as e:\n",
    "        return f\"代码执行时报错{e}\"\n",
    "    global_vars_after = set(g.keys())\n",
    "    new_vars = global_vars_after - global_vars_before\n",
    "    # 若存在新变量\n",
    "    if new_vars:\n",
    "        result = {var:g[var] for var in new_vars}\n",
    "        return str(result)\n",
    "    # 若不存在新变量，即有可能是代码表达式，也有可能代码对相同变量赋值\n",
    "    else:\n",
    "        try:\n",
    "            # 尝试如果是表达式，则返回表达式运行结果\n",
    "            return str(eval(py_code, g))\n",
    "        # 若报错，则先测试是否是对相同变量重复赋值\n",
    "        except Exception as e:\n",
    "            try:\n",
    "                exec(py_code, g)\n",
    "                return \"已经顺利运行代码\"\n",
    "            except Exception as e:\n",
    "                pass\n",
    "            # 若不是重复赋值，则报错\n",
    "            return f\"代码执行时报错{e}\""
   ]
  },
  {
   "cell_type": "code",
   "execution_count": 80,
   "id": "1047ed01-ec1c-4341-a1f4-d0083d79ab52",
   "metadata": {},
   "outputs": [
    {
     "data": {
      "text/plain": [
       "'7'"
      ]
     },
     "execution_count": 80,
     "metadata": {},
     "output_type": "execute_result"
    }
   ],
   "source": [
    "# 表达式语句运行测试\n",
    "code_str1 = '2 + 5'\n",
    "python_inter(py_code = code_str1, g=globals())"
   ]
  },
  {
   "cell_type": "code",
   "execution_count": 81,
   "id": "90056909-6271-4896-92a0-4867c43fe473",
   "metadata": {},
   "outputs": [
    {
     "data": {
      "text/plain": [
       "\"{'a': 1}\""
      ]
     },
     "execution_count": 81,
     "metadata": {},
     "output_type": "execute_result"
    }
   ],
   "source": [
    "# 赋值语句运行测试\n",
    "code_str1 = 'a = 1'\n",
    "python_inter(py_code = code_str1, g=globals())"
   ]
  },
  {
   "cell_type": "code",
   "execution_count": 82,
   "id": "91db3661-8502-451c-b8c1-0da8ff0f0892",
   "metadata": {},
   "outputs": [
    {
     "data": {
      "text/plain": [
       "1"
      ]
     },
     "execution_count": 82,
     "metadata": {},
     "output_type": "execute_result"
    }
   ],
   "source": [
    "a"
   ]
  },
  {
   "cell_type": "code",
   "execution_count": 83,
   "id": "20d1da5a-7a9b-434c-8ff2-de76f38a24cc",
   "metadata": {},
   "outputs": [
    {
     "data": {
      "text/plain": [
       "'已经顺利运行代码'"
      ]
     },
     "execution_count": 83,
     "metadata": {},
     "output_type": "execute_result"
    }
   ],
   "source": [
    "# 重复赋值语句运行测试\n",
    "code_str1 = 'a = 10'\n",
    "python_inter(py_code = code_str1, g=globals())"
   ]
  },
  {
   "cell_type": "code",
   "execution_count": 84,
   "id": "f3d32682-7799-4311-a145-3bad2bf98c11",
   "metadata": {},
   "outputs": [
    {
     "data": {
      "text/plain": [
       "10"
      ]
     },
     "execution_count": 84,
     "metadata": {},
     "output_type": "execute_result"
    }
   ],
   "source": [
    "a"
   ]
  },
  {
   "cell_type": "code",
   "execution_count": 90,
   "id": "85740daf-1cd2-4ea9-b42c-a2469c42db93",
   "metadata": {},
   "outputs": [],
   "source": [
    "def fig_inter(py_code, fname, g='globals()', save_path='./'):\n",
    "    \"\"\"\n",
    "    用于执行一段包含可视化绘图的Python代码，并最终获取一个图片类型对象保存到本地\n",
    "    :param py_code: 字符串形式的Python代码，用于根据需求进行绘图，代码中必须包含Figure对象创建过程\n",
    "    :param fname: py_code代码中创建的Figure变量名，以字符串形式表示。\n",
    "    :param g: g，字符串形式变量，表示环境变量，无需设置，保持默认参数即可\n",
    "    :param save_path: 图片保存的本地路径\n",
    "    :return: 代码运行的最终结果\n",
    "    \"\"\"    \n",
    "    # 若存在plt.show()，则删除\n",
    "    py_code = py_code.replace('plt.show()', '')\n",
    "    try:\n",
    "        exec(py_code, g)            \n",
    "    except Exception as e:\n",
    "        return f\"代码执行时报错{e}\"\n",
    "    \n",
    "    # 根据图片名称，获取图片对象\n",
    "    fig = g[fname]\n",
    "    \n",
    "    # 保存图片到本地\n",
    "    try:\n",
    "        # 确保保存路径以斜杠结尾\n",
    "        if not save_path.endswith('/'):\n",
    "            save_path += '/'\n",
    "        fig.savefig(save_path + fname + '.png')\n",
    "        res = f\"已经成功运行代码，并已将代码创建的图片保存至本地路径：{save_path + fname + '.png'}\"\n",
    "        \n",
    "    except Exception as e:\n",
    "        res = f\"保存图片时出错：{e}\"\n",
    "        \n",
    "    return res\n"
   ]
  },
  {
   "cell_type": "code",
   "execution_count": 91,
   "id": "de23ac3e-0dcc-4b99-8ba0-00f14aa16a27",
   "metadata": {},
   "outputs": [],
   "source": [
    "code_string = \"\"\"\n",
    "import matplotlib.pyplot as plt\n",
    "\n",
    "# 数据\n",
    "categories = ['Category 1', 'Category 2', 'Category 3', 'Category 4']\n",
    "values = [4, 7, 1, 8]\n",
    "\n",
    "# 创建 Figure 对象\n",
    "fig, ax = plt.subplots()\n",
    "\n",
    "# 在 Axes 对象 ax 上创建条形图\n",
    "ax.bar(categories, values)\n",
    "\n",
    "# 添加标题和标签\n",
    "ax.set_title('Bar Chart Example')\n",
    "ax.set_xlabel('Categories')\n",
    "ax.set_ylabel('Values')\n",
    "\n",
    "# 显示图表\n",
    "plt.show()\n",
    "\"\"\""
   ]
  },
  {
   "cell_type": "code",
   "execution_count": 92,
   "id": "5f8c3880-060f-47a1-ad1e-2a89cfcbeca2",
   "metadata": {},
   "outputs": [
    {
     "data": {
      "text/plain": [
       "'已经成功运行代码，并已将代码创建的图片保存至本地路径：./fig.png'"
      ]
     },
     "execution_count": 92,
     "metadata": {},
     "output_type": "execute_result"
    },
    {
     "data": {
      "image/png": "[encoded data removed]",
      "text/plain": [
       "<Figure size 432x288 with 1 Axes>"
      ]
     },
     "metadata": {
      "needs_background": "light"
     },
     "output_type": "display_data"
    }
   ],
   "source": [
    "fig_inter(py_code=code_string, fname='fig', g=globals())"
   ]
  },
  {
   "cell_type": "code",
   "execution_count": null,
   "id": "4590b446-ca9f-422f-be2c-e56e15a41fca",
   "metadata": {},
   "outputs": [],
   "source": []
  },
  {
   "cell_type": "code",
   "execution_count": null,
   "id": "70991dfe-dd08-4b9b-81b0-a0b3b142106c",
   "metadata": {},
   "outputs": [],
   "source": []
  },
  {
   "cell_type": "code",
   "execution_count": null,
   "id": "b7dc8198-b78d-4242-8a87-4b117be5c671",
   "metadata": {},
   "outputs": [],
   "source": []
  },
  {
   "cell_type": "code",
   "execution_count": null,
   "id": "8b2ea34c-1d0c-4640-aaa1-3f1282a83565",
   "metadata": {},
   "outputs": [],
   "source": []
  },
  {
   "cell_type": "code",
   "execution_count": null,
   "id": "7f0b952f-1eab-4701-afdd-d4c4f2bbd23b",
   "metadata": {},
   "outputs": [],
   "source": []
  },
  {
   "cell_type": "code",
   "execution_count": null,
   "id": "33a3d7ae-99b7-4c09-802a-9a68e7f93e27",
   "metadata": {},
   "outputs": [],
   "source": []
  },
  {
   "cell_type": "code",
   "execution_count": null,
   "id": "dc11b5b2-16f5-428c-ace4-77e63fc330de",
   "metadata": {},
   "outputs": [],
   "source": []
  },
  {
   "cell_type": "code",
   "execution_count": null,
   "id": "83f4abf3-d904-4288-8f88-503caf96238c",
   "metadata": {},
   "outputs": [],
   "source": []
  },
  {
   "cell_type": "code",
   "execution_count": null,
   "id": "b7578ef6-5343-4b96-8965-34e6288bdb80",
   "metadata": {},
   "outputs": [],
   "source": []
  },
  {
   "cell_type": "code",
   "execution_count": null,
   "id": "3dc957c8-a886-4917-9b08-ccfcc5891ea8",
   "metadata": {},
   "outputs": [],
   "source": []
  },
  {
   "cell_type": "code",
   "execution_count": null,
   "id": "b1608809-5365-46e1-b4ea-45f04433cbf5",
   "metadata": {},
   "outputs": [],
   "source": []
  },
  {
   "cell_type": "code",
   "execution_count": null,
   "id": "bce4cc7e-49fe-4063-b4a4-f42f7bfa9fb0",
   "metadata": {},
   "outputs": [],
   "source": []
  },
  {
   "cell_type": "code",
   "execution_count": null,
   "id": "0a1a0c85-1ae9-45bd-a5b9-4d7dc55cb6c1",
   "metadata": {},
   "outputs": [],
   "source": []
  },
  {
   "cell_type": "code",
   "execution_count": null,
   "id": "b0384a5e-14da-4b88-9daa-398e7799ca94",
   "metadata": {},
   "outputs": [],
   "source": []
  },
  {
   "cell_type": "code",
   "execution_count": null,
   "id": "22ba0ced-ed56-440f-87b6-f086bf7d120a",
   "metadata": {},
   "outputs": [],
   "source": []
  },
  {
   "cell_type": "code",
   "execution_count": null,
   "id": "cdc70450-1b6c-4cfd-9d0c-4947c529bc24",
   "metadata": {},
   "outputs": [],
   "source": []
  },
  {
   "cell_type": "code",
   "execution_count": null,
   "id": "5bed2d4e-c509-4435-98c3-7ff031611f47",
   "metadata": {},
   "outputs": [],
   "source": []
  },
  {
   "cell_type": "code",
   "execution_count": null,
   "id": "0992cf75-d779-48b8-ab37-05bc719ca2ee",
   "metadata": {},
   "outputs": [],
   "source": []
  },
  {
   "cell_type": "code",
   "execution_count": null,
   "id": "2097a7ae-ad36-4947-9531-1b5d40c9a7c2",
   "metadata": {},
   "outputs": [],
   "source": []
  }
 ],
 "metadata": {
  "kernelspec": {
   "display_name": "Python 3",
   "language": "python",
   "name": "python3"
  },
  "language_info": {
   "codemirror_mode": {
    "name": "ipython",
    "version": 3
   },
   "file_extension": ".py",
   "mimetype": "text/x-python",
   "name": "python",
   "nbconvert_exporter": "python",
   "pygments_lexer": "ipython3",
   "version": "3.9.2"
  }
 },
 "nbformat": 4,
 "nbformat_minor": 5
}

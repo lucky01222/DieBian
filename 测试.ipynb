{
 "cells": [
  {
   "cell_type": "code",
   "execution_count": 20,
   "id": "aead06f2-ed7f-4c33-8196-e884485f7306",
   "metadata": {},
   "outputs": [],
   "source": [
    "from InterProject import InterProject"
   ]
  },
  {
   "cell_type": "code",
   "execution_count": 21,
   "id": "cda9f5e6-237c-4a34-8d67-5e05e28f9e35",
   "metadata": {},
   "outputs": [],
   "source": [
    "p2 = InterProject(project_name = \"文件系统测试\", part_name=\"test the system\", upload_to_google_drive=True)"
   ]
  },
  {
   "cell_type": "code",
   "execution_count": 22,
   "id": "dc2fbc5c-bfd7-4436-8f8f-74efdbc1c627",
   "metadata": {},
   "outputs": [
    {
     "data": {
      "text/plain": [
       "['test the system']"
      ]
     },
     "execution_count": 22,
     "metadata": {},
     "output_type": "execute_result"
    }
   ],
   "source": [
    "p2.doc_list"
   ]
  },
  {
   "cell_type": "code",
   "execution_count": 23,
   "id": "e2510a11-3e80-4620-9fc2-f4add1f0f66d",
   "metadata": {},
   "outputs": [
    {
     "data": {
      "text/plain": [
       "'1Ju8-ZHuEfyCRlPCFiqwuypn7B0A2s6zF'"
      ]
     },
     "execution_count": 23,
     "metadata": {},
     "output_type": "execute_result"
    }
   ],
   "source": [
    "p2.folder_id"
   ]
  },
  {
   "cell_type": "code",
   "execution_count": 4,
   "id": "c13c3ee4-d227-4806-9241-41337d2dcd45",
   "metadata": {},
   "outputs": [],
   "source": [
    "p2.update_doc_list()"
   ]
  },
  {
   "cell_type": "code",
   "execution_count": 5,
   "id": "6ce355d3-b411-4849-b8dc-eba9b83ae653",
   "metadata": {},
   "outputs": [
    {
     "data": {
      "text/plain": [
       "['test the system']"
      ]
     },
     "execution_count": 5,
     "metadata": {},
     "output_type": "execute_result"
    }
   ],
   "source": [
    "p2.doc_list"
   ]
  },
  {
   "cell_type": "code",
   "execution_count": 6,
   "id": "3235c3c2-54bf-4933-98c4-9deeb95912c6",
   "metadata": {},
   "outputs": [],
   "source": [
    "p2.doc_content"
   ]
  },
  {
   "cell_type": "code",
   "execution_count": 7,
   "id": "13c6b840-3039-47c8-89c4-b5eab6afd006",
   "metadata": {},
   "outputs": [],
   "source": [
    "p2.delete_all_files()"
   ]
  },
  {
   "cell_type": "code",
   "execution_count": 8,
   "id": "8c27af40-298c-43cc-8672-c172dc7e49e8",
   "metadata": {},
   "outputs": [
    {
     "data": {
      "text/plain": [
       "[]"
      ]
     },
     "execution_count": 8,
     "metadata": {},
     "output_type": "execute_result"
    }
   ],
   "source": [
    "p2.doc_list"
   ]
  },
  {
   "cell_type": "code",
   "execution_count": 9,
   "id": "69b5d459-8ec6-486b-baf2-00df569b101e",
   "metadata": {},
   "outputs": [],
   "source": [
    "p2.update_doc_list()"
   ]
  },
  {
   "cell_type": "code",
   "execution_count": 10,
   "id": "a2a688df-7bb9-494e-9e78-584aaf345fe2",
   "metadata": {},
   "outputs": [
    {
     "data": {
      "text/plain": [
       "[]"
      ]
     },
     "execution_count": 10,
     "metadata": {},
     "output_type": "execute_result"
    }
   ],
   "source": [
    "p2.doc_list"
   ]
  },
  {
   "cell_type": "code",
   "execution_count": 1,
   "id": "52fb8968-0904-4ee2-860c-13544a2d4e9d",
   "metadata": {},
   "outputs": [],
   "source": [
    "from ChatMessages import ChatMessages"
   ]
  },
  {
   "cell_type": "code",
   "execution_count": 2,
   "id": "d53cf3fa-f8d8-4424-a9b3-b7158e81526b",
   "metadata": {},
   "outputs": [],
   "source": [
    "msg1 = ChatMessages()"
   ]
  },
  {
   "cell_type": "code",
   "execution_count": 3,
   "id": "96a95961-49eb-4dc2-99d9-bbe39d2c5140",
   "metadata": {},
   "outputs": [
    {
     "data": {
      "text/plain": [
       "[]"
      ]
     },
     "execution_count": 3,
     "metadata": {},
     "output_type": "execute_result"
    }
   ],
   "source": [
    "msg1.system_messages"
   ]
  },
  {
   "cell_type": "code",
   "execution_count": 4,
   "id": "10a91043-64c2-416e-b857-88f70f45a9c1",
   "metadata": {},
   "outputs": [
    {
     "data": {
      "text/plain": [
       "0"
      ]
     },
     "execution_count": 4,
     "metadata": {},
     "output_type": "execute_result"
    }
   ],
   "source": [
    "msg1.num_of_system_messages"
   ]
  },
  {
   "cell_type": "code",
   "execution_count": 5,
   "id": "ce25f87a-385c-42a9-a932-af50bf8874f4",
   "metadata": {},
   "outputs": [
    {
     "data": {
      "text/plain": [
       "[]"
      ]
     },
     "execution_count": 5,
     "metadata": {},
     "output_type": "execute_result"
    }
   ],
   "source": [
    "msg1.system_content_list"
   ]
  },
  {
   "cell_type": "code",
   "execution_count": 6,
   "id": "f4baed98-6f67-4adc-9c7b-623792f29a91",
   "metadata": {},
   "outputs": [
    {
     "data": {
      "text/plain": [
       "[{'role': 'user', 'content': '你好。'}]"
      ]
     },
     "execution_count": 6,
     "metadata": {},
     "output_type": "execute_result"
    }
   ],
   "source": [
    "msg1.messages"
   ]
  },
  {
   "cell_type": "code",
   "execution_count": 7,
   "id": "b16c0820-ffca-436f-99c9-89e4d8450404",
   "metadata": {},
   "outputs": [],
   "source": [
    "# 数据字典文件\n",
    "with open('示例文件/telco_data_dictionary.md', 'r', encoding='utf-8') as f:\n",
    "    data_dictionary = f.read()"
   ]
  },
  {
   "cell_type": "code",
   "execution_count": 8,
   "id": "c7b0bcf8-9d93-4e4a-ab88-a514640ee172",
   "metadata": {},
   "outputs": [
    {
     "data": {
      "text/plain": [
       "3592"
      ]
     },
     "execution_count": 8,
     "metadata": {},
     "output_type": "execute_result"
    }
   ],
   "source": [
    "len(data_dictionary)"
   ]
  },
  {
   "cell_type": "code",
   "execution_count": 9,
   "id": "bdbd0d08-e5e7-499d-b40c-f7fececbcc7b",
   "metadata": {},
   "outputs": [
    {
     "name": "stdout",
     "output_type": "stream",
     "text": [
      "1505\n"
     ]
    }
   ],
   "source": [
    "import tiktoken\n",
    "encoding = tiktoken.encoding_for_model(\"gpt-3.5-turbo\")\n",
    "print(len(encoding.encode(data_dictionary)))"
   ]
  },
  {
   "cell_type": "code",
   "execution_count": 10,
   "id": "c260b494-9b90-4b15-adfb-9305af6f6777",
   "metadata": {},
   "outputs": [],
   "source": [
    "# 数据分析报告编写专家文档\n",
    "with open('示例文件/DA work guide.md', 'r', encoding='utf-8') as f:\n",
    "    DA_instruct = f.read()"
   ]
  },
  {
   "cell_type": "code",
   "execution_count": 11,
   "id": "2293a7b4-5647-4c50-b2fe-be2518e5f50e",
   "metadata": {},
   "outputs": [],
   "source": [
    "msg2 = ChatMessages(system_content_list=[data_dictionary, DA_instruct])"
   ]
  },
  {
   "cell_type": "code",
   "execution_count": 12,
   "id": "eb8d8124-b353-4b91-b893-77be441af1ed",
   "metadata": {},
   "outputs": [
    {
     "data": {
      "text/plain": [
       "[{'role': 'user', 'content': '你好。'}]"
      ]
     },
     "execution_count": 12,
     "metadata": {},
     "output_type": "execute_result"
    }
   ],
   "source": [
    "msg2.history_messages"
   ]
  },
  {
   "cell_type": "code",
   "execution_count": 13,
   "id": "f8910d9c-589b-4827-91a2-c2b595feb8ad",
   "metadata": {},
   "outputs": [
    {
     "data": {
      "text/plain": [
       "[{'role': 'system',\n",
       "  'content': '# telco_data_dictionary：telco_db数据库数据字典\\n\\n本数据字典记录了telco_db数据库中各张数据表的基本情况。\\n\\n## 1.user_demographics数据表\\n\\n- 基本解释\\n\\n  \\u200b\\t\\tuser_demographics数据表记录了电信用户的个人基本情况，主要涵盖客户基本生物属性，包括性别、年龄状况、是否结婚以及是否经济独立等。\\n\\n- 数据来源\\n\\n  \\u200b\\tuser_demographics数据集由一线业务人员人工采集记录，并且通过回访确认相关信息，数据集的准确性和可信度都非常高。\\n\\n- 各字段说明\\n\\n| Column Name | Description | Value Range | Value Explanation | Type |\\n|-------------|-------------|-------------|-------------------|------|\\n| customerID | 客户ID，user_demographics数据表主键 |              | 由数字和字母组成的 | VARCHAR(255) |\\n| gender | 用户的性别 | Female, Male | Female (女性), Male (男性) | VARCHAR(255) |\\n| SeniorCitizen | 是否为老人 | 0, 1 | 0 (不是), 1 (是) | INT |\\n| Partner | 用户是否有伴侣 | Yes, No | Yes (有), No (没有) | VARCHAR(255) |\\n| Dependents | 用户经济是否独立，往往用于判断用户是否已经成年 | No, Yes | Yes (有), No (没有) | VARCHAR(255) |\\n\\n## 2.user_services数据表\\n\\n- 基本解释\\n\\n  \\u200b        user_services数据表记录了每位用户订购电信服务的基本情况，截至目前，电信服务商提供了种类多样的服务，包括电话类服务和网络类服务等，本数据集表记录了每位用户订阅电信服务的基本情况。\\n\\n- 数据来源\\n\\n  \\u200b\\t\\tuser_services数据表由后台系统自动创建生成，并未经过人工校验。\\n\\n- 各字段说明\\n\\n| Column Name | Description | Value Range | Value Explanation | Type |\\n|-------------|-------------|-------------|-------------------|------|\\n| customerID | 客户ID，user_services数据表主键 |  | 由数字和字母组成的 | VARCHAR(255) |\\n| PhoneService | 用户是否有电话服务 | No, Yes | Yes (有), No (没有) | VARCHAR(255) |\\n| MultipleLines | 用户是否开通了多条电话业务 | No phone service, No, Yes | Yes (有多条电话线业务), No (没有多条电话线业务), No phone service (没有电话服务) | VARCHAR(255) |\\n| InternetService | 用户的互联网服务类型 | DSL, Fiber optic, No | DSL (DSL), Fiber optic (光纤), No (没有) | VARCHAR(255) |\\n| OnlineSecurity | 是否开通网络安全服务 | No, Yes, No internet service | Yes（有）、No（无） or No internetservice（没有网路服务） | VARCHAR(255) |\\n| OnlineBackup | 是否开通在线备份服务 | Yes, No, No internet service | Yes（有）、No（无） or No internetservice（没有网路服务） | VARCHAR(255) |\\n| DeviceProtection | 是否开通设备保护服务 | No, Yes, No internet service | Yes（有）、No（无） or No internetservice（没有网路服务） | VARCHAR(255) |\\n| TechSupport | 是否开通技术支持业务 | No, Yes, No internet service | Yes（有）、No（无） or No internetservice（没有网路服务） | VARCHAR(255) |\\n| StreamingTV | 是否开通网络电视 | No, Yes, No internet service | Yes（有）、No（无） or No internetservice（没有网路服务） | VARCHAR(255) |\\n| StreamingMovies | 是否开通网络电影 | No, Yes, No internet service | Yes（有）、No（无） or No internetservice（没有网路服务） | VARCHAR(255) |\\n\\n## 3.user_payments数据表\\n\\n- 基本解释\\n\\n  \\u200b\\t\\tuser_payments数据表记录了每一位用户支付状况，既包括用户的支付方式和合同类型，同时也包含用户具体支付金额，包括月付金额和总金额等。\\n\\n- 数据来源\\n\\n  \\u200b\\t\\tuser_payments数据表由后台自动记录生成，并未经过校验。\\n\\n- 各字段说明\\n\\n| Column Name | Description | Value Range | Value Explanation | Type |\\n|-------------|-------------|-------------|-------------------|------|\\n| customerID | 客户ID，user_payments数据表主键 |  | 由数字和字母组成的 | VARCHAR(255) |\\n| Contract | 合同类型 | Month-to-month, One year, Two year | Month-to-month (月付), One year (一年付), Two year (两年付) | VARCHAR(255) |\\n| PaperlessBilling | 是否无纸化账单 | Yes, No | Yes (是), No (否) | VARCHAR(255) |\\n| PaymentMethod | 支付方式 | Electronic check, Mailed check, Bank transfer (automatic), Credit card (automatic) | Electronic check (电子检查), Mailed check (邮寄支票), Bank transfer (automatic) (银行转账), Credit card (automatic) (信用卡) | VARCHAR(255) |\\n| MonthlyCharges | 月费用 |  | 用户平均每月支付费用 | FLOAT        |\\n| TotalCharges | 总费用 |  | 截至目前用户总消费金额 | VARCHAR(255) |\\n\\n## 4.user_churn\\n\\n- 基本解释\\n\\n  \\u200b\\t\\tuser_churn数据表记录了当前用户流失情况。\\n\\n- 数据来源\\n\\n  \\u200b\\t\\tuser_churn数据表由后台自动创建并记录，当合同截至后但用户未续费，则判断该用户目前处于流失状态。\\n\\n- 各字段说明\\n\\n| Column Name | Description | Value Range | Value Explanation | Type |\\n|-------------|-------------|-------------|-------------------|------|\\n| customerID | 客户ID，user_churn数据表主键 |             | 由数字和字母组成的 | VARCHAR(255) |\\n| Churn | 用户是否流失 | No, Yes | Yes (是), No (否) | VARCHAR(255) |\\n\\n'},\n",
       " {'role': 'system',\n",
       "  'content': '1.你是一名资深的数据分析师和算法工程师，擅长编写SQL代码和Python代码，来完成一系列数据分析工作，以及机器学习算法建模工作。\\n\\n2.目前你正在参与一个名为电信用户流失预测的数据分析项目当中，这个项目的核心目的是分析当前电信用户相关数据，并对用户流失情况进行分析。目前该和项目相关的数据集都存储在MySQL数据库中的一个名为telco_db的数据库中。\\n\\n3.在你的工作中，你可以通过编写SQL代码进行数据库的数据查询，也可以编写一些pymysql代码，来将MySQL数据库中的数据读取到当前Python环境中。需要注意的是，当前Python环境中已经安装了pymysql库。并且已经根据语句connection = pymysql.connect创建了connect对象，可以直接调用。同时，你也可以编写Python代码来进行数据清洗或者数据建模相关工作。\\n\\n4.如果你想要编写pymysql来连接远程数据库的话，再次强调，当前python环境中已经创建了connect对象，你只需要编写提取数据的SQL数据，并通过pd.read_sql(sql_query, connection)方式来获取MySQL中的数据即可。'},\n",
       " {'role': 'user', 'content': '你好。'}]"
      ]
     },
     "execution_count": 13,
     "metadata": {},
     "output_type": "execute_result"
    }
   ],
   "source": [
    "msg2.messages"
   ]
  },
  {
   "cell_type": "code",
   "execution_count": 14,
   "id": "5166d224-066b-4912-a065-e10da9021bb8",
   "metadata": {},
   "outputs": [
    {
     "data": {
      "text/plain": [
       "1844"
      ]
     },
     "execution_count": 14,
     "metadata": {},
     "output_type": "execute_result"
    }
   ],
   "source": [
    "msg2.tokens_count"
   ]
  },
  {
   "cell_type": "code",
   "execution_count": 15,
   "id": "2d72d41b-9915-44e2-91a2-c9b96ef00f06",
   "metadata": {},
   "outputs": [],
   "source": [
    "msg2.tokens_thr"
   ]
  },
  {
   "cell_type": "code",
   "execution_count": 16,
   "id": "b3cf59e2-499d-4372-bdd4-cda641983c45",
   "metadata": {},
   "outputs": [],
   "source": [
    "msg3 = msg2.copy()"
   ]
  },
  {
   "cell_type": "code",
   "execution_count": 17,
   "id": "fb293212-b672-4509-b5d6-2f66511c30ae",
   "metadata": {},
   "outputs": [
    {
     "data": {
      "text/plain": [
       "[{'role': 'user', 'content': '你好。'}]"
      ]
     },
     "execution_count": 17,
     "metadata": {},
     "output_type": "execute_result"
    }
   ],
   "source": [
    "msg3.history_messages"
   ]
  },
  {
   "cell_type": "code",
   "execution_count": 18,
   "id": "27e462f0-af9f-4fdf-ae81-c9021f6686cf",
   "metadata": {},
   "outputs": [
    {
     "data": {
      "text/plain": [
       "[{'role': 'system',\n",
       "  'content': '# telco_data_dictionary：telco_db数据库数据字典\\n\\n本数据字典记录了telco_db数据库中各张数据表的基本情况。\\n\\n## 1.user_demographics数据表\\n\\n- 基本解释\\n\\n  \\u200b\\t\\tuser_demographics数据表记录了电信用户的个人基本情况，主要涵盖客户基本生物属性，包括性别、年龄状况、是否结婚以及是否经济独立等。\\n\\n- 数据来源\\n\\n  \\u200b\\tuser_demographics数据集由一线业务人员人工采集记录，并且通过回访确认相关信息，数据集的准确性和可信度都非常高。\\n\\n- 各字段说明\\n\\n| Column Name | Description | Value Range | Value Explanation | Type |\\n|-------------|-------------|-------------|-------------------|------|\\n| customerID | 客户ID，user_demographics数据表主键 |              | 由数字和字母组成的 | VARCHAR(255) |\\n| gender | 用户的性别 | Female, Male | Female (女性), Male (男性) | VARCHAR(255) |\\n| SeniorCitizen | 是否为老人 | 0, 1 | 0 (不是), 1 (是) | INT |\\n| Partner | 用户是否有伴侣 | Yes, No | Yes (有), No (没有) | VARCHAR(255) |\\n| Dependents | 用户经济是否独立，往往用于判断用户是否已经成年 | No, Yes | Yes (有), No (没有) | VARCHAR(255) |\\n\\n## 2.user_services数据表\\n\\n- 基本解释\\n\\n  \\u200b        user_services数据表记录了每位用户订购电信服务的基本情况，截至目前，电信服务商提供了种类多样的服务，包括电话类服务和网络类服务等，本数据集表记录了每位用户订阅电信服务的基本情况。\\n\\n- 数据来源\\n\\n  \\u200b\\t\\tuser_services数据表由后台系统自动创建生成，并未经过人工校验。\\n\\n- 各字段说明\\n\\n| Column Name | Description | Value Range | Value Explanation | Type |\\n|-------------|-------------|-------------|-------------------|------|\\n| customerID | 客户ID，user_services数据表主键 |  | 由数字和字母组成的 | VARCHAR(255) |\\n| PhoneService | 用户是否有电话服务 | No, Yes | Yes (有), No (没有) | VARCHAR(255) |\\n| MultipleLines | 用户是否开通了多条电话业务 | No phone service, No, Yes | Yes (有多条电话线业务), No (没有多条电话线业务), No phone service (没有电话服务) | VARCHAR(255) |\\n| InternetService | 用户的互联网服务类型 | DSL, Fiber optic, No | DSL (DSL), Fiber optic (光纤), No (没有) | VARCHAR(255) |\\n| OnlineSecurity | 是否开通网络安全服务 | No, Yes, No internet service | Yes（有）、No（无） or No internetservice（没有网路服务） | VARCHAR(255) |\\n| OnlineBackup | 是否开通在线备份服务 | Yes, No, No internet service | Yes（有）、No（无） or No internetservice（没有网路服务） | VARCHAR(255) |\\n| DeviceProtection | 是否开通设备保护服务 | No, Yes, No internet service | Yes（有）、No（无） or No internetservice（没有网路服务） | VARCHAR(255) |\\n| TechSupport | 是否开通技术支持业务 | No, Yes, No internet service | Yes（有）、No（无） or No internetservice（没有网路服务） | VARCHAR(255) |\\n| StreamingTV | 是否开通网络电视 | No, Yes, No internet service | Yes（有）、No（无） or No internetservice（没有网路服务） | VARCHAR(255) |\\n| StreamingMovies | 是否开通网络电影 | No, Yes, No internet service | Yes（有）、No（无） or No internetservice（没有网路服务） | VARCHAR(255) |\\n\\n## 3.user_payments数据表\\n\\n- 基本解释\\n\\n  \\u200b\\t\\tuser_payments数据表记录了每一位用户支付状况，既包括用户的支付方式和合同类型，同时也包含用户具体支付金额，包括月付金额和总金额等。\\n\\n- 数据来源\\n\\n  \\u200b\\t\\tuser_payments数据表由后台自动记录生成，并未经过校验。\\n\\n- 各字段说明\\n\\n| Column Name | Description | Value Range | Value Explanation | Type |\\n|-------------|-------------|-------------|-------------------|------|\\n| customerID | 客户ID，user_payments数据表主键 |  | 由数字和字母组成的 | VARCHAR(255) |\\n| Contract | 合同类型 | Month-to-month, One year, Two year | Month-to-month (月付), One year (一年付), Two year (两年付) | VARCHAR(255) |\\n| PaperlessBilling | 是否无纸化账单 | Yes, No | Yes (是), No (否) | VARCHAR(255) |\\n| PaymentMethod | 支付方式 | Electronic check, Mailed check, Bank transfer (automatic), Credit card (automatic) | Electronic check (电子检查), Mailed check (邮寄支票), Bank transfer (automatic) (银行转账), Credit card (automatic) (信用卡) | VARCHAR(255) |\\n| MonthlyCharges | 月费用 |  | 用户平均每月支付费用 | FLOAT        |\\n| TotalCharges | 总费用 |  | 截至目前用户总消费金额 | VARCHAR(255) |\\n\\n## 4.user_churn\\n\\n- 基本解释\\n\\n  \\u200b\\t\\tuser_churn数据表记录了当前用户流失情况。\\n\\n- 数据来源\\n\\n  \\u200b\\t\\tuser_churn数据表由后台自动创建并记录，当合同截至后但用户未续费，则判断该用户目前处于流失状态。\\n\\n- 各字段说明\\n\\n| Column Name | Description | Value Range | Value Explanation | Type |\\n|-------------|-------------|-------------|-------------------|------|\\n| customerID | 客户ID，user_churn数据表主键 |             | 由数字和字母组成的 | VARCHAR(255) |\\n| Churn | 用户是否流失 | No, Yes | Yes (是), No (否) | VARCHAR(255) |\\n\\n'},\n",
       " {'role': 'system',\n",
       "  'content': '1.你是一名资深的数据分析师和算法工程师，擅长编写SQL代码和Python代码，来完成一系列数据分析工作，以及机器学习算法建模工作。\\n\\n2.目前你正在参与一个名为电信用户流失预测的数据分析项目当中，这个项目的核心目的是分析当前电信用户相关数据，并对用户流失情况进行分析。目前该和项目相关的数据集都存储在MySQL数据库中的一个名为telco_db的数据库中。\\n\\n3.在你的工作中，你可以通过编写SQL代码进行数据库的数据查询，也可以编写一些pymysql代码，来将MySQL数据库中的数据读取到当前Python环境中。需要注意的是，当前Python环境中已经安装了pymysql库。并且已经根据语句connection = pymysql.connect创建了connect对象，可以直接调用。同时，你也可以编写Python代码来进行数据清洗或者数据建模相关工作。\\n\\n4.如果你想要编写pymysql来连接远程数据库的话，再次强调，当前python环境中已经创建了connect对象，你只需要编写提取数据的SQL数据，并通过pd.read_sql(sql_query, connection)方式来获取MySQL中的数据即可。'},\n",
       " {'role': 'user', 'content': '你好。'}]"
      ]
     },
     "execution_count": 18,
     "metadata": {},
     "output_type": "execute_result"
    }
   ],
   "source": [
    "msg3.messages"
   ]
  },
  {
   "cell_type": "code",
   "execution_count": 19,
   "id": "c87fb2e6-3880-4295-bc07-991b10bb19d6",
   "metadata": {},
   "outputs": [
    {
     "name": "stdout",
     "output_type": "stream",
     "text": [
      "system_messages的tokens数量超出限制，当前系统消息将不会被输入模型，若有必要，请重新调整外部文档数量。\n"
     ]
    }
   ],
   "source": [
    "msg4 = ChatMessages(system_content_list=[data_dictionary, DA_instruct],tokens_thr=1500)"
   ]
  },
  {
   "cell_type": "code",
   "execution_count": 1,
   "id": "fb91a660-abb5-44dc-bc06-304d575e2f50",
   "metadata": {},
   "outputs": [],
   "source": [
    "from functions import python_inter, upload_image_to_drive, fig_inter"
   ]
  },
  {
   "cell_type": "code",
   "execution_count": 2,
   "id": "198c25d3-1877-41db-9417-54754d71a497",
   "metadata": {},
   "outputs": [],
   "source": [
    "# 示例代码\n",
    "code_string = \"\"\"\n",
    "import matplotlib.pyplot as plt\n",
    "\n",
    "# 数据\n",
    "x = [1, 2, 3, 4, 5]\n",
    "y = [2, 3, 5, 7, 6]\n",
    "\n",
    "# 创建图形和坐标轴对象\n",
    "plt.figure(figsize=(8, 6))  # 创建一个 8x6 英寸的图形\n",
    "plt.plot(x, y, marker='o', color='blue', linestyle='-', linewidth=2, markersize=8)  # 绘制折线图\n",
    "\n",
    "# 添加标题和标签\n",
    "plt.title('Sample Plot')\n",
    "plt.xlabel('X-axis Label')\n",
    "plt.ylabel('Y-axis Label')\n",
    "\n",
    "# 添加网格线\n",
    "plt.grid(True)\n",
    "\n",
    "# 显示图形\n",
    "plt.show()\n",
    "\n",
    "\"\"\""
   ]
  },
  {
   "cell_type": "code",
   "execution_count": 4,
   "id": "0cd47946-9e4b-4208-9313-5affce40406f",
   "metadata": {},
   "outputs": [
    {
     "name": "stdout",
     "output_type": "stream",
     "text": [
      "已经成功运行代码，并已将代码创建的图片存储至：https://drive.google.com/uc?id=1gn40VqHknVweiHUBJiXXpjaq2XLAEDEq&export=download\n"
     ]
    }
   ],
   "source": [
    "# 调用函数\n",
    "result = fig_inter(py_code=code_string)"
   ]
  },
  {
   "cell_type": "code",
   "execution_count": 4,
   "id": "e1cb6395-453c-4b7c-941f-5471342ad10a",
   "metadata": {},
   "outputs": [
    {
     "data": {
      "text/plain": [
       "'已经成功运行代码，并已将代码创建的图片存储至：https://drive.google.com/uc?id=170qmSE4dOGh21peRW-kPnkLnLEzLf8CE&export=download'"
      ]
     },
     "execution_count": 4,
     "metadata": {},
     "output_type": "execute_result"
    }
   ],
   "source": [
    "result"
   ]
  },
  {
   "cell_type": "code",
   "execution_count": 5,
   "id": "ac5a8725-1c69-466c-a6c0-1524f0ea88ad",
   "metadata": {},
   "outputs": [
    {
     "data": {
      "image/png": "[encoded data removed]",
      "text/plain": [
       "<Figure size 800x600 with 1 Axes>"
      ]
     },
     "metadata": {},
     "output_type": "display_data"
    }
   ],
   "source": [
    "import matplotlib.pyplot as plt\n",
    "\n",
    "# 数据\n",
    "x = [1, 2, 3, 4, 5]\n",
    "y = [2, 3, 5, 7, 6]\n",
    "\n",
    "# 创建图形和坐标轴对象\n",
    "plt.figure(figsize=(8, 6))  # 创建一个 8x6 英寸的图形\n",
    "plt.plot(x, y, marker='o', color='blue', linestyle='-', linewidth=2, markersize=8)  # 绘制折线图\n",
    "\n",
    "# 添加标题和标签\n",
    "plt.title('Sample Plot')\n",
    "plt.xlabel('X-axis Label')\n",
    "plt.ylabel('Y-axis Label')\n",
    "\n",
    "# 添加网格线\n",
    "plt.grid(True)\n",
    "\n",
    "# 显示图形\n",
    "plt.show()"
   ]
  },
  {
   "cell_type": "code",
   "execution_count": 6,
   "id": "da23b761-2b65-4930-b2fe-1ed403a6af74",
   "metadata": {},
   "outputs": [],
   "source": [
    "import matplotlib.pyplot as plt\n",
    "\n",
    "# 数据\n",
    "x = [1, 2, 3, 4, 5]\n",
    "y = [2, 3, 5, 7, 6]\n",
    "\n",
    "# 创建图形和坐标轴对象\n",
    "plt.figure(figsize=(8, 6))  # 创建一个 8x6 英寸的图形\n",
    "plt.plot(x, y, marker='o', color='blue', linestyle='-', linewidth=2, markersize=8)  # 绘制折线图\n",
    "\n",
    "# 添加标题和标签\n",
    "plt.title('Sample Plot')\n",
    "plt.xlabel('X-axis Label')\n",
    "plt.ylabel('Y-axis Label')\n",
    "\n",
    "# 添加网格线\n",
    "plt.grid(True)\n",
    "\n",
    "plt.close()"
   ]
  },
  {
   "cell_type": "code",
   "execution_count": 6,
   "id": "c950e53f-ded9-4b61-a993-0f095488d115",
   "metadata": {},
   "outputs": [],
   "source": [
    "from AvailableFunctions import AvailableFunctions\n",
    "from functions import python_inter, upload_image_to_drive, fig_inter\n",
    "from functions_info import python_inter_function_info, fig_inter_function_info"
   ]
  },
  {
   "cell_type": "code",
   "execution_count": 7,
   "id": "cae493ae-1f60-41ea-8cf1-e37235672ded",
   "metadata": {},
   "outputs": [],
   "source": [
    "functions_list = [python_inter, fig_inter]"
   ]
  },
  {
   "cell_type": "code",
   "execution_count": 8,
   "id": "6a9e8034-2165-48bf-99cd-d3f6488e25b2",
   "metadata": {},
   "outputs": [],
   "source": [
    "functions = [python_inter_function_info, fig_inter_function_info]"
   ]
  },
  {
   "cell_type": "code",
   "execution_count": 9,
   "id": "b6413ee8-2a38-4d90-98b8-5d6be3df8d37",
   "metadata": {},
   "outputs": [],
   "source": [
    "af = AvailableFunctions(functions_list=functions_list, functions=functions)"
   ]
  },
  {
   "cell_type": "code",
   "execution_count": 10,
   "id": "e7972955-32ad-4437-88b7-da4e1459bd4b",
   "metadata": {},
   "outputs": [
    {
     "data": {
      "text/plain": [
       "[{'name': 'python_inter',\n",
       "  'description': '专门用于执行非绘图的python代码，并获取最终查询或处理结果。若是需要执行绘图操作的Python代码，请勿调用python_inter函数，而请直接调用fig_inter函数来完成任务。',\n",
       "  'parameters': {'type': 'object',\n",
       "   'properties': {'py_code': {'type': 'string',\n",
       "     'description': '用于执行非绘图操作的python代码，若要执行绘图，请用fig_inter函数'},\n",
       "    'g': {'type': 'string', 'description': '环境变量，可选参数，保持默认参数即可'}},\n",
       "   'required': ['py_code']}},\n",
       " {'name': 'fig_inter',\n",
       "  'description': '用于执行一段包含可视化绘图的Python代码，并最终获取一个图片类型对象',\n",
       "  'parameters': {'type': 'object',\n",
       "   'properties': {'py_code': {'type': 'string',\n",
       "     'description': '代码中必须包含Figure对象创建过程'},\n",
       "    'fname': {'type': 'string', 'description': '代码中创建的Figure变量名'},\n",
       "    'g': {'type': 'string', 'description': '环境变量，无需设置，保持默认参数即可'}},\n",
       "   'required': ['py_code', 'fname']}}]"
      ]
     },
     "execution_count": 10,
     "metadata": {},
     "output_type": "execute_result"
    }
   ],
   "source": [
    "af.functions"
   ]
  },
  {
   "cell_type": "code",
   "execution_count": 11,
   "id": "e9ad4a20-1af4-499b-9dbc-5f16a9549f26",
   "metadata": {},
   "outputs": [
    {
     "data": {
      "text/plain": [
       "\u001b[0;31mInit signature:\u001b[0m \u001b[0mAvailableFunctions\u001b[0m\u001b[0;34m(\u001b[0m\u001b[0mfunctions_list\u001b[0m\u001b[0;34m=\u001b[0m\u001b[0;34m[\u001b[0m\u001b[0;34m]\u001b[0m\u001b[0;34m,\u001b[0m \u001b[0mfunctions\u001b[0m\u001b[0;34m=\u001b[0m\u001b[0;34m[\u001b[0m\u001b[0;34m]\u001b[0m\u001b[0;34m,\u001b[0m \u001b[0mfunction_call\u001b[0m\u001b[0;34m=\u001b[0m\u001b[0;34m'auto'\u001b[0m\u001b[0;34m)\u001b[0m\u001b[0;34m\u001b[0m\u001b[0;34m\u001b[0m\u001b[0m\n",
       "\u001b[0;31mDocstring:\u001b[0m      外部函数类，主要负责承接外部函数调用时相关功能支持。类属性包括外部函数列表、外部函数参数说明类表、以及调用方式说明三项。\n",
       "\u001b[0;31mFile:\u001b[0m           ~/Desktop/大模型/DieBian/AvailableFunctions.py\n",
       "\u001b[0;31mType:\u001b[0m           type\n",
       "\u001b[0;31mSubclasses:\u001b[0m     \n"
      ]
     },
     "metadata": {},
     "output_type": "display_data"
    }
   ],
   "source": [
    "AvailableFunctions?"
   ]
  },
  {
   "cell_type": "code",
   "execution_count": 12,
   "id": "7892fc72-0528-4dd5-b88a-ddbf79370055",
   "metadata": {},
   "outputs": [
    {
     "data": {
      "text/plain": [
       "<function functions.fig_inter(py_code)>"
      ]
     },
     "execution_count": 12,
     "metadata": {},
     "output_type": "execute_result"
    }
   ],
   "source": [
    "fig_inter"
   ]
  },
  {
   "cell_type": "code",
   "execution_count": 13,
   "id": "29d224ed-f313-4114-ad8e-88837fae7cbd",
   "metadata": {},
   "outputs": [
    {
     "data": {
      "text/plain": [
       "[<function functions.python_inter(py_code, g='globals()')>,\n",
       " <function functions.fig_inter(py_code)>]"
      ]
     },
     "execution_count": 13,
     "metadata": {},
     "output_type": "execute_result"
    }
   ],
   "source": [
    "af.functions_list"
   ]
  },
  {
   "cell_type": "code",
   "execution_count": null,
   "id": "93d21c55-0f8c-4767-8130-4e3b8b991956",
   "metadata": {},
   "outputs": [],
   "source": []
  },
  {
   "cell_type": "code",
   "execution_count": 1,
   "id": "1d29ac6f-3994-46d4-a2cb-10ad126e5917",
   "metadata": {},
   "outputs": [],
   "source": [
    "from toolbox import add_task_decomposition_prompt, modify_prompt, get_gpt_response, get_chat_response, is_code_response_valid, is_text_response_valid, check_get_final_function_response"
   ]
  },
  {
   "cell_type": "code",
   "execution_count": 2,
   "id": "21bd8efd-7d13-41c5-9b82-7cdc80e49317",
   "metadata": {},
   "outputs": [],
   "source": [
    "from ChatMessages import ChatMessages\n",
    "from AvailableFunctions import AvailableFunctions\n",
    "from InterProject import InterProject"
   ]
  },
  {
   "cell_type": "code",
   "execution_count": 3,
   "id": "9949ddf4-c39a-4556-8968-d7bc2c263aa4",
   "metadata": {},
   "outputs": [],
   "source": [
    "from functions import python_inter, upload_image_to_drive, fig_inter\n",
    "from functions_info import python_inter_function_info, fig_inter_function_info"
   ]
  },
  {
   "cell_type": "code",
   "execution_count": 4,
   "id": "0ba14e6f-0d44-4b1a-b542-6eeb65ab054e",
   "metadata": {},
   "outputs": [],
   "source": [
    "# 数据字典文件\n",
    "with open('示例文件/telco_data_dictionary.md', 'r', encoding='utf-8') as f:\n",
    "    data_dictionary = f.read()"
   ]
  },
  {
   "cell_type": "code",
   "execution_count": 5,
   "id": "94d10ba0-910f-4e08-93f5-41b90238312b",
   "metadata": {},
   "outputs": [],
   "source": [
    "msg1 = ChatMessages(system_content_list=[data_dictionary], question=\"请帮我简单介绍telco_db数据库基本情况。\")"
   ]
  },
  {
   "cell_type": "code",
   "execution_count": 6,
   "id": "bb450cb7-beae-4efc-b82c-9870bebf3663",
   "metadata": {},
   "outputs": [
    {
     "data": {
      "text/plain": [
       "[{'role': 'user', 'content': '请帮我简单介绍telco_db数据库基本情况。'}]"
      ]
     },
     "execution_count": 6,
     "metadata": {},
     "output_type": "execute_result"
    }
   ],
   "source": [
    "msg1.history_messages"
   ]
  },
  {
   "cell_type": "code",
   "execution_count": 7,
   "id": "6d180f83-9a99-4e03-8a92-e9de9e8c7a80",
   "metadata": {},
   "outputs": [],
   "source": [
    "functions_list = [python_inter, fig_inter]\n",
    "functions = [python_inter_function_info, fig_inter_function_info]\n",
    "af = AvailableFunctions(functions_list=functions_list, functions=functions)"
   ]
  },
  {
   "cell_type": "code",
   "execution_count": 8,
   "id": "89ad6afc-5398-4369-b1f7-8e1fabd96166",
   "metadata": {},
   "outputs": [
    {
     "name": "stdout",
     "output_type": "stream",
     "text": [
      "模型回答：\n",
      "\n"
     ]
    },
    {
     "data": {
      "text/markdown": [
       "telco_db是一个电信领域的数据库，主要用于存储和管理与用户相关的数据，包括用户的个人信息、服务订购情况、支付信息以及用户流失数据等。这个数据库至少包含以下四个数据表：\n",
       "\n",
       "1. **user_demographics**: 记录了用户的个人基本信息，如性别、是否为老年人、是否有伴侣和是否有经济依赖人等。\n",
       "\n",
       "2. **user_services**: 包含了关于用户订阅的电信服务信息，例如电话服务、互联网服务、网路安全、在线备份、设备保护、技术支持、流媒体电视和流媒体电影服务等。\n",
       "\n",
       "3. **user_payments**: 详细记录用户的支付情况，包括合同类型、是否无纸化账单、支付方式以及用户的月度和总消费额。\n",
       "\n",
       "4. **user_churn**: 列出了用户流失情况，如果用户在合同结束后没有续费，则被判定为流失。\n",
       "\n",
       "这些表格共同构成了电信公司的客户信息库，有助于公司了解客户基础并优化服务。每个表具有一个主键`customerID`，用以唯一标识每个客户，并可能通过这个主键关联数据表进行多维度分析。数据来源包括前线业务人员的记录、系统自动生成以及流失监测机制。这些数据对于公司制定营销策略、提升客户满意度和降低客户流失率具有重要价值。"
      ],
      "text/plain": [
       "<IPython.core.display.Markdown object>"
      ]
     },
     "metadata": {},
     "output_type": "display_data"
    }
   ],
   "source": [
    "msg_response1 = get_chat_response(model='gpt-4-1106-preview', \n",
    "                                  available_functions=af,\n",
    "                                  messages=msg1)"
   ]
  },
  {
   "cell_type": "code",
   "execution_count": 8,
   "id": "1fc5233b-88d7-45ee-af2d-b74464ca5f9a",
   "metadata": {},
   "outputs": [],
   "source": [
    "msg2 = ChatMessages(question=\"请教我一下如何使用matplotlib，为我提供一个实例并执行该画图代码给我看看效果\")"
   ]
  },
  {
   "cell_type": "code",
   "execution_count": 9,
   "id": "5ba9fb64-b919-4be0-88cf-710c7452a955",
   "metadata": {},
   "outputs": [
    {
     "name": "stdout",
     "output_type": "stream",
     "text": [
      "模型回答：\n",
      "\n"
     ]
    },
    {
     "data": {
      "text/markdown": [
       "为了演示如何使用Matplotlib，我们需要执行以下步骤：    \n",
       "\n",
       "步骤1：编写Python代码，使用Matplotlib库创建一个简单的图表，例如折线图、柱状图或散点图。    \n",
       "\n",
       "步骤2：使用`fig_inter`函数执行编写的Python代码，生成图表图片。    \n",
       "\n",
       "步骤3：展示生成的图表图片，以便您查看Matplotlib图表的效果。"
      ],
      "text/plain": [
       "<IPython.core.display.Markdown object>"
      ]
     },
     "metadata": {},
     "output_type": "display_data"
    },
    {
     "name": "stdin",
     "output_type": "stream",
     "text": [
      "请问是否按照该流程执行任务（1），        或者对当前执行流程提出修改意见（2），        或者重新进行提问（3），        或者直接退出对话（4） 1\n"
     ]
    },
    {
     "name": "stdout",
     "output_type": "stream",
     "text": [
      "好的，即将逐步执行上述流程\n",
      "即将执行以下代码:\n"
     ]
    },
    {
     "data": {
      "text/markdown": [
       "```python\n",
       "import matplotlib.pyplot as plt\n",
       "import numpy as np\n",
       "\n",
       "x = np.linspace(0, 10, 100)\n",
       "y = np.sin(x)\n",
       "\n",
       "plt.figure()\n",
       "plt.plot(x, y)\n",
       "plt.title('Sine Wave')\n",
       "plt.xlabel('X')\n",
       "plt.ylabel('Y')\n",
       "plt.show()\n",
       "```"
      ],
      "text/plain": [
       "<IPython.core.display.Markdown object>"
      ]
     },
     "metadata": {},
     "output_type": "display_data"
    },
    {
     "name": "stdout",
     "output_type": "stream",
     "text": [
      "已经成功运行代码，并已将代码创建的图片存储至：https://drive.google.com/uc?id=1PROITtnuoLEWY0hPdHXuqeQDyRcZSeya&export=download\n",
      "外部函数已执行完毕，正在解析运行结果...\n",
      "模型回答：\n",
      "\n"
     ]
    },
    {
     "data": {
      "text/markdown": [
       "您可以通过以下链接查看生成的图表图片：[Sine Wave](https://drive.google.com/uc?id=1PROITtnuoLEWY0hPdHXuqeQDyRcZSeya&export=download)。这是一个基于正弦函数创建的简单折线图，以展示Matplotlib的基本功能。"
      ],
      "text/plain": [
       "<IPython.core.display.Markdown object>"
      ]
     },
     "metadata": {},
     "output_type": "display_data"
    }
   ],
   "source": [
    "msg_response2 = get_chat_response(model='gpt-3.5-turbo-1106', \n",
    "                                  available_functions=af,\n",
    "                                  messages=msg2,is_enhanced_mode=True)"
   ]
  },
  {
   "cell_type": "code",
   "execution_count": 13,
   "id": "7cd379e4-939e-44b8-b6bf-7336d6f856c2",
   "metadata": {},
   "outputs": [],
   "source": [
    "msg = ChatMessages(system_content_list=[], question=\"你好\")"
   ]
  },
  {
   "cell_type": "code",
   "execution_count": 14,
   "id": "7a0d8c63-434e-4ff3-91ae-e2989646ffe8",
   "metadata": {},
   "outputs": [
    {
     "data": {
      "text/plain": [
       "[{'role': 'user', 'content': '你好'}]"
      ]
     },
     "execution_count": 14,
     "metadata": {},
     "output_type": "execute_result"
    }
   ],
   "source": [
    "msg.messages"
   ]
  },
  {
   "cell_type": "code",
   "execution_count": 19,
   "id": "5ecd2422-b32a-4149-9b8f-a111d9f3a63e",
   "metadata": {},
   "outputs": [],
   "source": [
    "msg.messages_append({'role': 'user', 'content': 'nishishui'})"
   ]
  },
  {
   "cell_type": "code",
   "execution_count": 20,
   "id": "cfefb07b-3892-43c3-bd6b-e5c0ac3519ab",
   "metadata": {},
   "outputs": [
    {
     "data": {
      "text/plain": [
       "[{'role': 'user', 'content': '你好'},\n",
       " {'role': 'user', 'content': 'nishishui'},\n",
       " {'role': 'user', 'content': 'nishishui'}]"
      ]
     },
     "execution_count": 20,
     "metadata": {},
     "output_type": "execute_result"
    }
   ],
   "source": [
    "msg.messages"
   ]
  },
  {
   "cell_type": "code",
   "execution_count": 10,
   "id": "64b945b4-74eb-43d4-8db0-34ee5bf0476b",
   "metadata": {},
   "outputs": [
    {
     "name": "stdout",
     "output_type": "stream",
     "text": [
      "1\n"
     ]
    }
   ],
   "source": [
    "def generator_function():\n",
    "    yield from \"132\"\n",
    "    print(\"This line will not be executed until the generator is resumed\")\n",
    "    yield 2\n",
    "\n",
    "# 创建生成器对象\n",
    "gen = generator_function()\n",
    "\n",
    "# 第一次调用生成器，执行到第一个 yield\n",
    "print(next(gen))# 输出 1"
   ]
  },
  {
   "cell_type": "code",
   "execution_count": 13,
   "id": "92e18334-1db5-4f16-af04-3219f323acb7",
   "metadata": {},
   "outputs": [
    {
     "name": "stdout",
     "output_type": "stream",
     "text": [
      "This line will not be executed until the generator is resumed\n",
      "2\n"
     ]
    }
   ],
   "source": [
    "print(next(gen))"
   ]
  },
  {
   "cell_type": "code",
   "execution_count": null,
   "id": "dee84f8c-403b-42da-b77e-c708e017eab5",
   "metadata": {},
   "outputs": [],
   "source": []
  },
  {
   "cell_type": "code",
   "execution_count": null,
   "id": "477d035d-5929-47cb-950f-6ac10b31c373",
   "metadata": {},
   "outputs": [],
   "source": []
  },
  {
   "cell_type": "code",
   "execution_count": null,
   "id": "dc64291b-f82b-4e50-ac1a-c6ff07808b69",
   "metadata": {},
   "outputs": [],
   "source": []
  },
  {
   "cell_type": "code",
   "execution_count": null,
   "id": "b1fd1412-f9b8-4371-a6b4-c4b152321b3a",
   "metadata": {},
   "outputs": [],
   "source": []
  },
  {
   "cell_type": "code",
   "execution_count": null,
   "id": "a60d7674-2e48-463f-8a43-05b5e7970652",
   "metadata": {},
   "outputs": [],
   "source": []
  },
  {
   "cell_type": "code",
   "execution_count": null,
   "id": "26e97537-486d-4e79-8db9-3596e079f3e9",
   "metadata": {},
   "outputs": [],
   "source": []
  },
  {
   "cell_type": "code",
   "execution_count": null,
   "id": "a791fff6-8510-401a-9426-0be2c373ec79",
   "metadata": {},
   "outputs": [],
   "source": []
  },
  {
   "cell_type": "code",
   "execution_count": null,
   "id": "318a10e8-2022-4d96-97c3-02ec903e3715",
   "metadata": {},
   "outputs": [],
   "source": []
  }
 ],
 "metadata": {
  "kernelspec": {
   "display_name": "Python 3",
   "language": "python",
   "name": "python3"
  },
  "language_info": {
   "codemirror_mode": {
    "name": "ipython",
    "version": 3
   },
   "file_extension": ".py",
   "mimetype": "text/x-python",
   "name": "python",
   "nbconvert_exporter": "python",
   "pygments_lexer": "ipython3",
   "version": "3.9.2"
  }
 },
 "nbformat": 4,
 "nbformat_minor": 5
}
